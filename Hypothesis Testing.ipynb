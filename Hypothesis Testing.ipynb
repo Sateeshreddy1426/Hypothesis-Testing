{
 "cells": [
  {
   "cell_type": "markdown",
   "id": "182eb540-a75c-4c67-8da7-c7f31bb8ad7c",
   "metadata": {},
   "source": [
    "# Hypothesis Testing"
   ]
  },
  {
   "cell_type": "code",
   "execution_count": null,
   "id": "46e1fce8-5b11-477b-8f69-8c1519358fb0",
   "metadata": {},
   "outputs": [],
   "source": [
    "# Given Data\n",
    "# Weekly Operating Costs Model W= $1000+$5X\n",
    "# Sample Mean X_bar=3050\n",
    "# Number of units produced in a week (X) follows a normal distribution with a mean (μ) of 600 units and a standard deviation (σ) of 25 units"
   ]
  },
  {
   "cell_type": "markdown",
   "id": "520ed0fc-59c9-416b-a981-049245509c22",
   "metadata": {},
   "source": [
    "# State the Hypotheses statement"
   ]
  },
  {
   "cell_type": "code",
   "execution_count": 4,
   "id": "ee3640d3-3275-4f8a-ae77-78ed97cb3a42",
   "metadata": {},
   "outputs": [],
   "source": [
    "# Ho: Weekly Operating costs are not Higher\n",
    "# Ha: Weekly Operating Costs are higher"
   ]
  },
  {
   "cell_type": "markdown",
   "id": "50c4e67d-8f8c-4639-81f3-a1644e536b77",
   "metadata": {},
   "source": [
    "# Calculate the Test Statistic"
   ]
  },
  {
   "cell_type": "code",
   "execution_count": 8,
   "id": "230c9ebc-0dc1-4381-84cf-ea2f780113e4",
   "metadata": {},
   "outputs": [],
   "source": [
    "import numpy as np"
   ]
  },
  {
   "cell_type": "code",
   "execution_count": null,
   "id": "6bd6de6c-0adf-4d3b-be8f-3965c14e90a7",
   "metadata": {},
   "outputs": [],
   "source": [
    "# z-score=(X_bar-pop_mean)/(std_dev/sqrt(n))"
   ]
  },
  {
   "cell_type": "code",
   "execution_count": 38,
   "id": "68e8572b-1e31-4882-b01d-536dc2b25fa4",
   "metadata": {},
   "outputs": [],
   "source": [
    "x_bar=3050\n",
    "pop_mean=1000+(5*600)\n",
    "std_dev=125\n",
    "n=25"
   ]
  },
  {
   "cell_type": "code",
   "execution_count": 40,
   "id": "df5b5a51-8759-4d5c-b66e-e9276134ac42",
   "metadata": {},
   "outputs": [
    {
     "data": {
      "text/plain": [
       "-38.0"
      ]
     },
     "execution_count": 40,
     "metadata": {},
     "output_type": "execute_result"
    }
   ],
   "source": [
    "z_score=(x_bar-pop_mean)/(std_dev/np.sqrt(n))\n",
    "z_score"
   ]
  },
  {
   "cell_type": "markdown",
   "id": "30c50ff8-05f1-4b70-b497-7d74b84555ab",
   "metadata": {},
   "source": [
    "# Determine the Critical Value"
   ]
  },
  {
   "cell_type": "code",
   "execution_count": 17,
   "id": "bd89cae4-a676-4017-b115-252e873cd611",
   "metadata": {},
   "outputs": [],
   "source": [
    "# alpha=5% \n",
    "# Confidence Interval = 0.95\n",
    "# here we need to find the critical value, for that you have take confidence value = 0.975"
   ]
  },
  {
   "cell_type": "code",
   "execution_count": 19,
   "id": "d5ff2130-4557-4209-b9ae-91d17cf1d84c",
   "metadata": {},
   "outputs": [],
   "source": [
    "import scipy.stats as stats"
   ]
  },
  {
   "cell_type": "code",
   "execution_count": 31,
   "id": "1baad167-05a8-4e85-aa26-9809e18ac16f",
   "metadata": {},
   "outputs": [
    {
     "data": {
      "text/plain": [
       "1.959963984540054"
      ]
     },
     "execution_count": 31,
     "metadata": {},
     "output_type": "execute_result"
    }
   ],
   "source": [
    "t_critical=stats.norm.ppf(0.975)\n",
    "t_critical"
   ]
  },
  {
   "cell_type": "markdown",
   "id": "64cbc50c-6805-421b-9565-c7cc37159451",
   "metadata": {},
   "source": [
    "# Make a Decision"
   ]
  },
  {
   "cell_type": "code",
   "execution_count": 42,
   "id": "a12e21ef-b776-482e-83f1-879f21dc30a5",
   "metadata": {},
   "outputs": [],
   "source": [
    "# Test Statistic value Z_score=-38.0\n",
    "# Critical value is 1.9599\n",
    "# since the z_score not lies in the boundary value i.e z_score < critical value\n",
    "# -38.0 < -1.959"
   ]
  },
  {
   "cell_type": "markdown",
   "id": "cf93b6cd-211e-47fa-a6ea-959e010dfff4",
   "metadata": {},
   "source": [
    "# Conclusion"
   ]
  },
  {
   "cell_type": "code",
   "execution_count": 1,
   "id": "2f579837-e5a0-4469-89e4-c07778055582",
   "metadata": {},
   "outputs": [],
   "source": [
    "# Since the calculated test statistic (-38.0) is much less than the critical value (1.9599), we fail to reject the null hypothesis.\n",
    "# Based on the analysis, there is no strong evidence to support the restaurant owners' claim \n",
    "# that the weekly operating costs are higher than the model suggests. ​"
   ]
  },
  {
   "cell_type": "markdown",
   "id": "b16b4a81-b5cb-4444-9d3a-3a3be4afa3bf",
   "metadata": {},
   "source": [
    "# Chi-Square Test"
   ]
  },
  {
   "cell_type": "markdown",
   "id": "0d9179b9-3f19-494e-8501-227d89b4ca52",
   "metadata": {},
   "source": [
    "# State the Hypothesis"
   ]
  },
  {
   "cell_type": "code",
   "execution_count": 102,
   "id": "8b9cdf3d-9880-4d53-a8d0-cc6f6d4cbd4d",
   "metadata": {},
   "outputs": [],
   "source": [
    "# Ho: There is no Association between the type of device purchased and the customer's satisfaction level\n",
    "# Ha: There is Association between the type of device purchased and the customer's satisfaction level"
   ]
  },
  {
   "cell_type": "markdown",
   "id": "d2c43030-6e48-4f45-9400-86667fb9bcc4",
   "metadata": {},
   "source": [
    "# Compute the Chi-Square Statistic"
   ]
  },
  {
   "cell_type": "code",
   "execution_count": 24,
   "id": "56b92dc4-c4b7-449c-859f-50614de6867b",
   "metadata": {},
   "outputs": [],
   "source": [
    "import pandas as pd\n",
    "import scipy.stats as stats"
   ]
  },
  {
   "cell_type": "code",
   "execution_count": 78,
   "id": "c1c3fdd3-3766-419b-ba95-eaad142ec457",
   "metadata": {},
   "outputs": [],
   "source": [
    "dict1={'Satisfaction':['Very Satisfied','Satisfied','Neutral','Unsatisfied','Very Satisfied'],'Smart Thermostat':[50,80,60,20,30],'Smart Light':[70,100,90,50,50]}"
   ]
  },
  {
   "cell_type": "code",
   "execution_count": 82,
   "id": "0ca65f38-e4c2-43cc-abe7-e12c12094ab2",
   "metadata": {},
   "outputs": [
    {
     "data": {
      "text/html": [
       "<div>\n",
       "<style scoped>\n",
       "    .dataframe tbody tr th:only-of-type {\n",
       "        vertical-align: middle;\n",
       "    }\n",
       "\n",
       "    .dataframe tbody tr th {\n",
       "        vertical-align: top;\n",
       "    }\n",
       "\n",
       "    .dataframe thead th {\n",
       "        text-align: right;\n",
       "    }\n",
       "</style>\n",
       "<table border=\"1\" class=\"dataframe\">\n",
       "  <thead>\n",
       "    <tr style=\"text-align: right;\">\n",
       "      <th></th>\n",
       "      <th>Satisfaction</th>\n",
       "      <th>Smart Thermostat</th>\n",
       "      <th>Smart Light</th>\n",
       "    </tr>\n",
       "  </thead>\n",
       "  <tbody>\n",
       "    <tr>\n",
       "      <th>0</th>\n",
       "      <td>Very Satisfied</td>\n",
       "      <td>50</td>\n",
       "      <td>70</td>\n",
       "    </tr>\n",
       "    <tr>\n",
       "      <th>1</th>\n",
       "      <td>Satisfied</td>\n",
       "      <td>80</td>\n",
       "      <td>100</td>\n",
       "    </tr>\n",
       "    <tr>\n",
       "      <th>2</th>\n",
       "      <td>Neutral</td>\n",
       "      <td>60</td>\n",
       "      <td>90</td>\n",
       "    </tr>\n",
       "    <tr>\n",
       "      <th>3</th>\n",
       "      <td>Unsatisfied</td>\n",
       "      <td>20</td>\n",
       "      <td>50</td>\n",
       "    </tr>\n",
       "    <tr>\n",
       "      <th>4</th>\n",
       "      <td>Very Satisfied</td>\n",
       "      <td>30</td>\n",
       "      <td>50</td>\n",
       "    </tr>\n",
       "  </tbody>\n",
       "</table>\n",
       "</div>"
      ],
      "text/plain": [
       "     Satisfaction  Smart Thermostat  Smart Light\n",
       "0  Very Satisfied                50           70\n",
       "1       Satisfied                80          100\n",
       "2         Neutral                60           90\n",
       "3     Unsatisfied                20           50\n",
       "4  Very Satisfied                30           50"
      ]
     },
     "execution_count": 82,
     "metadata": {},
     "output_type": "execute_result"
    }
   ],
   "source": [
    "df1=pd.DataFrame(dict1)\n",
    "df1"
   ]
  },
  {
   "cell_type": "code",
   "execution_count": 88,
   "id": "47719e8e-be50-448f-850b-a3e9f20bfed9",
   "metadata": {},
   "outputs": [
    {
     "data": {
      "text/html": [
       "<div>\n",
       "<style scoped>\n",
       "    .dataframe tbody tr th:only-of-type {\n",
       "        vertical-align: middle;\n",
       "    }\n",
       "\n",
       "    .dataframe tbody tr th {\n",
       "        vertical-align: top;\n",
       "    }\n",
       "\n",
       "    .dataframe thead th {\n",
       "        text-align: right;\n",
       "    }\n",
       "</style>\n",
       "<table border=\"1\" class=\"dataframe\">\n",
       "  <thead>\n",
       "    <tr style=\"text-align: right;\">\n",
       "      <th></th>\n",
       "      <th>Smart Thermostat</th>\n",
       "      <th>Smart Light</th>\n",
       "    </tr>\n",
       "  </thead>\n",
       "  <tbody>\n",
       "    <tr>\n",
       "      <th>0</th>\n",
       "      <td>50</td>\n",
       "      <td>70</td>\n",
       "    </tr>\n",
       "    <tr>\n",
       "      <th>1</th>\n",
       "      <td>80</td>\n",
       "      <td>100</td>\n",
       "    </tr>\n",
       "    <tr>\n",
       "      <th>2</th>\n",
       "      <td>60</td>\n",
       "      <td>90</td>\n",
       "    </tr>\n",
       "    <tr>\n",
       "      <th>3</th>\n",
       "      <td>20</td>\n",
       "      <td>50</td>\n",
       "    </tr>\n",
       "    <tr>\n",
       "      <th>4</th>\n",
       "      <td>30</td>\n",
       "      <td>50</td>\n",
       "    </tr>\n",
       "  </tbody>\n",
       "</table>\n",
       "</div>"
      ],
      "text/plain": [
       "   Smart Thermostat  Smart Light\n",
       "0                50           70\n",
       "1                80          100\n",
       "2                60           90\n",
       "3                20           50\n",
       "4                30           50"
      ]
     },
     "execution_count": 88,
     "metadata": {},
     "output_type": "execute_result"
    }
   ],
   "source": [
    "numerical_data=df1[['Smart Thermostat','Smart Light']]\n",
    "numerical_data"
   ]
  },
  {
   "cell_type": "code",
   "execution_count": 90,
   "id": "d583e3f0-c51b-406e-8f81-855e7dd4101b",
   "metadata": {},
   "outputs": [
    {
     "data": {
      "text/plain": [
       "Chi2ContingencyResult(statistic=5.638227513227513, pvalue=0.22784371130697179, dof=4, expected_freq=array([[ 48.,  72.],\n",
       "       [ 72., 108.],\n",
       "       [ 60.,  90.],\n",
       "       [ 28.,  42.],\n",
       "       [ 32.,  48.]]))"
      ]
     },
     "execution_count": 90,
     "metadata": {},
     "output_type": "execute_result"
    }
   ],
   "source": [
    "chi_test=stats.chi2_contingency(numerical_data)\n",
    "chi_test"
   ]
  },
  {
   "cell_type": "code",
   "execution_count": 93,
   "id": "fdff2f37-2804-41a8-9688-ae916516e1d1",
   "metadata": {},
   "outputs": [],
   "source": [
    "# Here we got chi-square value is 5.638"
   ]
  },
  {
   "cell_type": "markdown",
   "id": "24d65a33-83ed-4648-99c8-4f4bead00bd7",
   "metadata": {},
   "source": [
    "# Determine the Critical Value:"
   ]
  },
  {
   "cell_type": "code",
   "execution_count": null,
   "id": "aba55cb2-1a6f-4538-85a5-ecf6f916fbc8",
   "metadata": {},
   "outputs": [],
   "source": [
    "#  Degrees of freedom=(4-1)*(2-1)=4"
   ]
  },
  {
   "cell_type": "code",
   "execution_count": 96,
   "id": "9506f1b9-ab13-47c9-b795-873ca49491ff",
   "metadata": {},
   "outputs": [
    {
     "data": {
      "text/plain": [
       "9.487729036781154"
      ]
     },
     "execution_count": 96,
     "metadata": {},
     "output_type": "execute_result"
    }
   ],
   "source": [
    "k=stats.chi2.ppf(0.95,4)\n",
    "k"
   ]
  },
  {
   "cell_type": "code",
   "execution_count": 99,
   "id": "0c86fb6f-d25f-4b23-9569-cc707b0abb4d",
   "metadata": {},
   "outputs": [],
   "source": [
    "# Here we got the value of critical value is 9.4877"
   ]
  },
  {
   "cell_type": "markdown",
   "id": "660d7ee0-8e14-4b31-bfce-5d2b6a82f1f4",
   "metadata": {},
   "source": [
    "# Make a Decision"
   ]
  },
  {
   "cell_type": "code",
   "execution_count": null,
   "id": "e5251a69-6171-4946-bb13-af4b70b19aee",
   "metadata": {},
   "outputs": [],
   "source": [
    "# chi_statistic value lies before the Critical Value \n",
    "# Then Chi-Square Statistic < Critical Value\n",
    "# So we can say it Fail to reject\n",
    "# There is no Association between the type of device purchased and the customer's satisfaction level"
   ]
  }
 ],
 "metadata": {
  "kernelspec": {
   "display_name": "Python 3 (ipykernel)",
   "language": "python",
   "name": "python3"
  },
  "language_info": {
   "codemirror_mode": {
    "name": "ipython",
    "version": 3
   },
   "file_extension": ".py",
   "mimetype": "text/x-python",
   "name": "python",
   "nbconvert_exporter": "python",
   "pygments_lexer": "ipython3",
   "version": "3.12.4"
  }
 },
 "nbformat": 4,
 "nbformat_minor": 5
}
